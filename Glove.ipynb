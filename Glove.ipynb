{
  "nbformat": 4,
  "nbformat_minor": 0,
  "metadata": {
    "colab": {
      "name": "Untitled0.ipynb",
      "provenance": [],
      "collapsed_sections": []
    },
    "kernelspec": {
      "name": "python3",
      "display_name": "Python 3"
    },
    "language_info": {
      "name": "python"
    }
  },
  "cells": [
    {
      "cell_type": "code",
      "metadata": {
        "colab": {
          "base_uri": "https://localhost:8080/"
        },
        "id": "XQHPJBejdbsV",
        "outputId": "dfd82aee-ba9c-44ed-d74d-5769f8ee2c68"
      },
      "source": [
        "from google.colab import drive\n",
        "drive.mount(\"/content/drive\")\n",
        "import os\n",
        "path=\"/content/drive/MyDrive/Pytorch实现Word2Vec/model\"\n",
        "os.chdir(path)\n",
        "os.listdir(path)"
      ],
      "execution_count": 18,
      "outputs": [
        {
          "output_type": "stream",
          "text": [
            "Drive already mounted at /content/drive; to attempt to forcibly remount, call drive.mount(\"/content/drive\", force_remount=True).\n"
          ],
          "name": "stdout"
        },
        {
          "output_type": "execute_result",
          "data": {
            "text/plain": [
              "['record-50.log',\n",
              " '__pycache__',\n",
              " 'GloveTrain.py',\n",
              " 'WordEmbeddingDataset.py',\n",
              " 'GloveModel.py',\n",
              " 'Untitled0.ipynb']"
            ]
          },
          "metadata": {
            "tags": []
          },
          "execution_count": 18
        }
      ]
    },
    {
      "cell_type": "code",
      "metadata": {
        "id": "rzx671mxgmDy"
      },
      "source": [
        "import torch.utils.data as tud\n",
        "import torch\n",
        "\n",
        "class WordEmbeddingDataset(tud.Dataset):\n",
        "    def __init__(self, co_matrix, weight_matrix):\n",
        "        self.co_matrix = co_matrix\n",
        "        self.weight_matrix = weight_matrix\n",
        "        self.train_set = []\n",
        "\n",
        "        for i in range(self.weight_matrix.shape[0]):\n",
        "            for j in range(self.weight_matrix.shape[1]):\n",
        "                if weight_matrix[i][j] != 0:\n",
        "                    # 这里对权重进行了筛选，去掉权重为0的项\n",
        "                    # 因为共现次数为0会导致log(X)变成nan\n",
        "                    self.train_set.append((i, j))\n",
        "\n",
        "    def __len__(self):\n",
        "        '''\n",
        "        必须重写的方法\n",
        "        :return: 返回训练集的大小\n",
        "        '''\n",
        "        return len(self.train_set)\n",
        "\n",
        "    def __getitem__(self, index):\n",
        "        '''\n",
        "        必须重写的方法\n",
        "        :param index:样本索引\n",
        "        :return: 返回一个样本\n",
        "        '''\n",
        "        (i, j) = self.train_set[index]\n",
        "        return i, j, torch.tensor(self.co_matrix[i][j], dtype=torch.float), self.weight_matrix[i][j]\n"
      ],
      "execution_count": 19,
      "outputs": []
    },
    {
      "cell_type": "code",
      "metadata": {
        "id": "rVk1GpFJgmGi"
      },
      "source": [
        "import torch\n",
        "import torch.nn as nn  #神经网络工具箱torch.nn\n",
        "import torch.nn.functional as F  #神经网络函数torch.nn.functional\n",
        "import numpy as np\n",
        "import sys\n",
        "import math\n",
        "\n",
        "class GloveModel(nn.Module):\n",
        "    def __init__(self, vocab_size, embed_size):\n",
        "        super().__init__()\n",
        "        self.vocab_size = vocab_size\n",
        "        self.embed_size = embed_size\n",
        "\n",
        "        #声明v和w为Embedding向量\n",
        "        self.v = nn.Embedding(vocab_size, embed_size)\n",
        "        self.w = nn.Embedding(vocab_size, embed_size)\n",
        "        self.biasv = nn.Embedding(vocab_size, 1)\n",
        "        self.biasw = nn.Embedding(vocab_size, 1)\n",
        "\n",
        "        #随机初始化参数\n",
        "        initrange = 0.5 / self.embed_size\n",
        "        self.v.weight.data.uniform_(-initrange, initrange)\n",
        "        self.w.weight.data.uniform_(-initrange, initrange)\n",
        "\n",
        "    def forward(self, i, j, co_occur, weight):\n",
        "        vi = self.v(i)\n",
        "        wj = self.w(j)\n",
        "        bi = self.biasv(i)\n",
        "        bj = self.biasw(j)\n",
        "\n",
        "        similarity = torch.mul(vi, wj)\n",
        "        similarity = torch.sum(similarity, dim=1)\n",
        "\n",
        "        loss = similarity + bi + bj - torch.log(co_occur)\n",
        "        loss = 0.5 * weight * loss * loss\n",
        "\n",
        "        return loss.sum().mean()\n",
        "\n",
        "    def gloveMatrix(self):\n",
        "        '''\n",
        "        获得词向量，这里把两个向量相加作为最后的词向量\n",
        "        :return:\n",
        "        '''\n",
        "        return self.v.weight.data.cpu().numpy() + self.w.weight.data.cpu().numpy()\n"
      ],
      "execution_count": 20,
      "outputs": []
    },
    {
      "cell_type": "code",
      "metadata": {
        "id": "GhetuuWheJLf"
      },
      "source": [
        "import torch\n",
        "import torch.utils.data as tud  #Pytorch读取训练集需要用到torch.utils.data类\n",
        "\n",
        "from collections import Counter\n",
        "from sklearn.metrics.pairwise import  cosine_similarity\n",
        "\n",
        "import pandas as pd\n",
        "import numpy as np\n",
        "import scipy\n",
        "\n",
        "import time\n",
        "import math\n",
        "import random\n",
        "import sys\n",
        "import matplotlib.pyplot as plt\n",
        "\n",
        "\n",
        "EMBEDDING_SIZE = 50\n",
        "MAX_VOCAB_SIZE = 2000\n",
        "WINDOW_SIZE = 5\n",
        "\n",
        "NUM_EPOCHS = 10\n",
        "BATCH_SIZE = 64\n",
        "LEARNING_RATE = 0.05\n",
        "\n",
        "TEXT_SIZE = 20000000\n",
        "LOG_FILE = \"../logs/glove-{}.log\".format(EMBEDDING_SIZE)\n",
        "WEIGHT_FILE = \"../weights/glove-{}.th\".format(EMBEDDING_SIZE)\n",
        "\n",
        "\"\"\"加载语料库\"\"\"\n",
        "def getCorpus(filetype, size):\n",
        "    if filetype == 'dev':\n",
        "        filepath = '/content/drive/MyDrive/Pytorch实现Word2Vec/text8/text8.dev.txt'\n",
        "    elif filetype == 'test':\n",
        "        filepath = '/content/drive/MyDrive/Pytorch实现Word2Vec/text8/text8.test.txt'\n",
        "    else:\n",
        "        filepath = '/content/drive/MyDrive/Pytorch实现Word2Vec/text8/text8.train.txt'\n",
        "\n",
        "    with open(filepath, \"r\") as f:\n",
        "        text = f.read()\n",
        "        text = text.lower().split()\n",
        "        text = text[: min(len(text), size)]\n",
        "        vocab_dict = dict(Counter(text).most_common(MAX_VOCAB_SIZE - 1))\n",
        "        vocab_dict['<unk>'] = len(text) - sum(list(vocab_dict.values()))\n",
        "        idx_to_word = list(vocab_dict.keys())\n",
        "        word_to_idx = {word:ind for ind, word in enumerate(idx_to_word)}\n",
        "        word_counts = np.array(list(vocab_dict.values()), dtype=np.float32)\n",
        "        word_freqs = word_counts / sum(word_counts)\n",
        "        print(\"Words list length:{}\".format(len(text)))\n",
        "        print(\"Vocab size:{}\".format(len(idx_to_word)))\n",
        "    return text, idx_to_word, word_to_idx, word_counts, word_freqs\n"
      ],
      "execution_count": 21,
      "outputs": []
    },
    {
      "cell_type": "markdown",
      "metadata": {
        "id": "h4q-2ztqlP53"
      },
      "source": [
        "# 计算共现矩阵"
      ]
    },
    {
      "cell_type": "code",
      "metadata": {
        "id": "Y_WqjZjBlJ96"
      },
      "source": [
        "\"\"\"计算共现矩阵\"\"\"\n",
        "def buildCooccuranceMatrix(text, word_to_idx):\n",
        "    vocab_size = len(word_to_idx)\n",
        "    maxlength = len(text)\n",
        "    text_ids = [word_to_idx.get(word, word_to_idx[\"<unk>\"]) for word in text]\n",
        "    cooccurance_matrix = np.zeros((vocab_size, vocab_size), dtype=np.int32)\n",
        "    print(\"Co-Matrix consumed mem:%.2fMB\" % (sys.getsizeof(cooccurance_matrix)/(1024*1024)))\n",
        "    for i, center_word_id in enumerate(text_ids):\n",
        "        window_indices = list(range(i - WINDOW_SIZE, i)) + list(range(i + 1, i + WINDOW_SIZE + 1))\n",
        "        window_indices = [i % maxlength for i in window_indices]\n",
        "        window_word_ids = [text_ids[index] for index in window_indices]\n",
        "        for context_word_id in window_word_ids:\n",
        "            cooccurance_matrix[center_word_id][context_word_id] += 1\n",
        "        if (i+1) % 1000000 == 0:\n",
        "            print(\">>>>> Process %dth word\" % (i+1))\n",
        "    print(\">>>>> Build co-occurance matrix completed.\")\n",
        "    return cooccurance_matrix\n",
        "\n"
      ],
      "execution_count": 22,
      "outputs": []
    },
    {
      "cell_type": "markdown",
      "metadata": {
        "id": "ITLGBeKAlRe8"
      },
      "source": [
        "# 计算权重函数矩阵\n",
        "![image.png](data:image/png;base64,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)"
      ]
    },
    {
      "cell_type": "code",
      "metadata": {
        "id": "nrGuuvERlNcJ"
      },
      "source": [
        "\"\"\"计算权重函数矩阵\"\"\"\n",
        "def buildWeightMatrix(co_matrix):\n",
        "    xmax = 100.0\n",
        "    weight_matrix = np.zeros_like(co_matrix, dtype=np.float32)\n",
        "    print(\"Weight-Matrix consumed mem:%.2fMB\" % (sys.getsizeof(weight_matrix) / (1024 * 1024)))\n",
        "    for i in range(co_matrix.shape[0]):\n",
        "        for j in range(co_matrix.shape[1]):\n",
        "            weight_matrix[i][j] = math.pow(co_matrix[i][j] / xmax, 0.75) if co_matrix[i][j] < xmax else 1\n",
        "        if (i+1) % 1000 == 0:\n",
        "            print(\">>>>> Process %dth weight\" % (i+1))\n",
        "    print(\">>>>> Build weight matrix completed.\")\n",
        "    return weight_matrix"
      ],
      "execution_count": 23,
      "outputs": []
    },
    {
      "cell_type": "code",
      "metadata": {
        "id": "5_mKb17SlgRf"
      },
      "source": [
        "def asMinutes(s):\n",
        "    h = math.floor(s / 3600)\n",
        "    s = s - h * 3600\n",
        "    m = math.floor(s / 60)\n",
        "    s -= m * 60\n",
        "    return '%dh %dm %ds' % (h, m, s)\n",
        "\n",
        "def timeSince(since, percent):\n",
        "    now = time.time()\n",
        "    s = now - since\n",
        "    es = s / percent\n",
        "    rs = es - s\n",
        "    return '%s (- %s)' % (asMinutes(s), asMinutes(rs))\n",
        "\n",
        "def loadModel():\n",
        "    path = WEIGHT_FILE\n",
        "    model = GloveModel(MAX_VOCAB_SIZE, EMBEDDING_SIZE)\n",
        "    model.load_state_dict(torch.load(path))\n",
        "    return model\n",
        "\n"
      ],
      "execution_count": 24,
      "outputs": []
    },
    {
      "cell_type": "code",
      "metadata": {
        "colab": {
          "base_uri": "https://localhost:8080/"
        },
        "id": "Q6Uj8w2Aguvo",
        "outputId": "41d58bb7-da62-4574-ae43-a0d179191740"
      },
      "source": [
        "text, idx_to_word, word_to_idx, word_counts, word_freqs = getCorpus('train', size=TEXT_SIZE)    #加载语料及预处理\n",
        "co_matrix = buildCooccuranceMatrix(text, word_to_idx)    #构建共现矩阵\n",
        "weight_matrix = buildWeightMatrix(co_matrix)             #构建权重矩阵\n",
        "dataset = WordEmbeddingDataset(co_matrix, weight_matrix) #创建dataset\n",
        "dataloader = tud.DataLoader(dataset, batch_size=BATCH_SIZE, shuffle=True, num_workers=0)"
      ],
      "execution_count": 25,
      "outputs": [
        {
          "output_type": "stream",
          "text": [
            "Words list length:15304686\n",
            "Vocab size:2000\n",
            "Co-Matrix consumed mem:15.26MB\n",
            ">>>>> Process 1000000th word\n",
            ">>>>> Process 2000000th word\n",
            ">>>>> Process 3000000th word\n",
            ">>>>> Process 4000000th word\n",
            ">>>>> Process 5000000th word\n",
            ">>>>> Process 6000000th word\n",
            ">>>>> Process 7000000th word\n",
            ">>>>> Process 8000000th word\n",
            ">>>>> Process 9000000th word\n",
            ">>>>> Process 10000000th word\n",
            ">>>>> Process 11000000th word\n",
            ">>>>> Process 12000000th word\n",
            ">>>>> Process 13000000th word\n",
            ">>>>> Process 14000000th word\n",
            ">>>>> Process 15000000th word\n",
            ">>>>> Build co-occurance matrix completed.\n",
            "Weight-Matrix consumed mem:15.26MB\n",
            ">>>>> Process 1000th weight\n",
            ">>>>> Process 2000th weight\n",
            ">>>>> Build weight matrix completed.\n"
          ],
          "name": "stdout"
        }
      ]
    },
    {
      "cell_type": "code",
      "metadata": {
        "colab": {
          "base_uri": "https://localhost:8080/"
        },
        "id": "gj9Mi0nyjmzP",
        "outputId": "a5987429-ad94-4eec-b220-ecbac1b95eea"
      },
      "source": [
        "device = torch.device(\"cuda\" if torch.cuda.is_available() else \"cpu\")\n",
        "model = GloveModel(MAX_VOCAB_SIZE, EMBEDDING_SIZE).to(device) #创建模型\n",
        "#model = loadModel()\n",
        "optimizer = torch.optim.Adagrad(model.parameters(), lr=LEARNING_RATE) #选择Adagrad优化器\n",
        "model"
      ],
      "execution_count": 26,
      "outputs": [
        {
          "output_type": "execute_result",
          "data": {
            "text/plain": [
              "GloveModel(\n",
              "  (v): Embedding(2000, 50)\n",
              "  (w): Embedding(2000, 50)\n",
              "  (biasv): Embedding(2000, 1)\n",
              "  (biasw): Embedding(2000, 1)\n",
              ")"
            ]
          },
          "metadata": {
            "tags": []
          },
          "execution_count": 26
        }
      ]
    },
    {
      "cell_type": "code",
      "metadata": {
        "colab": {
          "base_uri": "https://localhost:8080/"
        },
        "id": "JbnhLQ3kg05P",
        "outputId": "640cea6f-959d-4898-fe93-46b87ccb465a"
      },
      "source": [
        "print_every = 10000\n",
        "save_every = 50000\n",
        "epochs = NUM_EPOCHS\n",
        "iters_per_epoch = int(dataset.__len__() / BATCH_SIZE)\n",
        "total_iterations = iters_per_epoch * epochs\n",
        "print(\"Iterations: %d per one epoch, Total iterations: %d \" % (iters_per_epoch, total_iterations))\n",
        "\n",
        "start = time.time()\n",
        "for epoch in range(epochs):\n",
        "    loss_print_avg = 0\n",
        "    iteration = iters_per_epoch * epoch\n",
        "    for i, j, co_occur, weight in dataloader:\n",
        "      i = i.long().to(device)\n",
        "      j = j.long().to(device)        \n",
        "      co_occur = co_occur.long().to(device)        \n",
        "      weight = weight.long().to(device)  \n",
        "\n",
        "      iteration += 1\n",
        "      optimizer.zero_grad()   #每一批样本训练前重置缓存的梯度\n",
        "      loss = model(i, j, co_occur, weight)    #前向传播\n",
        "      loss.backward()     #反向传播\n",
        "      optimizer.step()    #更新梯度\n",
        "      loss_print_avg += loss.item()\n",
        "\n",
        "\n",
        "      if iteration % print_every == 0:\n",
        "          time_desc = timeSince(start, iteration / total_iterations)\n",
        "          iter_percent = iteration / total_iterations * 100\n",
        "          loss_avg = loss_print_avg / print_every\n",
        "          loss_print_avg = 0\n",
        "          print(\"epoch: %d, iter: %d/%d (%.4f%%), loss: %.5f, %s\" %\n",
        "                (epoch, iteration, total_iterations, iter_percent, loss_avg, time_desc))\n",
        "\n",
        "#torch.save(model.state_dict(), WEIGHT_FILE)"
      ],
      "execution_count": 27,
      "outputs": [
        {
          "output_type": "stream",
          "text": [
            "Iterations: 41793 per one epoch, Total iterations: 417930 \n",
            "epoch: 0, iter: 10000/417930 (2.3927%), loss: 1044.03065, 0h 0m 21s (- 0h 14m 53s)\n",
            "epoch: 0, iter: 20000/417930 (4.7855%), loss: 178.83057, 0h 0m 43s (- 0h 14m 23s)\n",
            "epoch: 0, iter: 30000/417930 (7.1782%), loss: 107.63227, 0h 1m 4s (- 0h 14m 0s)\n",
            "epoch: 0, iter: 40000/417930 (9.5710%), loss: 80.43127, 0h 1m 26s (- 0h 13m 39s)\n",
            "epoch: 1, iter: 50000/417930 (11.9637%), loss: 50.13434, 0h 1m 48s (- 0h 13m 19s)\n",
            "epoch: 1, iter: 60000/417930 (14.3565%), loss: 51.94846, 0h 2m 10s (- 0h 12m 56s)\n",
            "epoch: 1, iter: 70000/417930 (16.7492%), loss: 43.75499, 0h 2m 31s (- 0h 12m 33s)\n",
            "epoch: 1, iter: 80000/417930 (19.1420%), loss: 37.72172, 0h 2m 53s (- 0h 12m 11s)\n",
            "epoch: 2, iter: 90000/417930 (21.5347%), loss: 20.26973, 0h 3m 15s (- 0h 11m 50s)\n",
            "epoch: 2, iter: 100000/417930 (23.9275%), loss: 29.18328, 0h 3m 36s (- 0h 11m 28s)\n",
            "epoch: 2, iter: 110000/417930 (26.3202%), loss: 26.74294, 0h 3m 58s (- 0h 11m 7s)\n",
            "epoch: 2, iter: 120000/417930 (28.7129%), loss: 25.01110, 0h 4m 20s (- 0h 10m 46s)\n",
            "epoch: 3, iter: 130000/417930 (31.1057%), loss: 9.82274, 0h 4m 42s (- 0h 10m 25s)\n",
            "epoch: 3, iter: 140000/417930 (33.4984%), loss: 20.55698, 0h 5m 4s (- 0h 10m 3s)\n",
            "epoch: 3, iter: 150000/417930 (35.8912%), loss: 19.47679, 0h 5m 25s (- 0h 9m 41s)\n",
            "epoch: 3, iter: 160000/417930 (38.2839%), loss: 18.81860, 0h 5m 47s (- 0h 9m 20s)\n",
            "epoch: 4, iter: 170000/417930 (40.6767%), loss: 4.56402, 0h 6m 9s (- 0h 8m 58s)\n",
            "epoch: 4, iter: 180000/417930 (43.0694%), loss: 16.68827, 0h 6m 31s (- 0h 8m 37s)\n",
            "epoch: 4, iter: 190000/417930 (45.4622%), loss: 15.91035, 0h 6m 53s (- 0h 8m 15s)\n",
            "epoch: 4, iter: 200000/417930 (47.8549%), loss: 14.94394, 0h 7m 14s (- 0h 7m 53s)\n",
            "epoch: 5, iter: 210000/417930 (50.2476%), loss: 1.32546, 0h 7m 37s (- 0h 7m 32s)\n",
            "epoch: 5, iter: 220000/417930 (52.6404%), loss: 13.59710, 0h 7m 59s (- 0h 7m 11s)\n",
            "epoch: 5, iter: 230000/417930 (55.0331%), loss: 13.71687, 0h 8m 21s (- 0h 6m 49s)\n",
            "epoch: 5, iter: 240000/417930 (57.4259%), loss: 13.38477, 0h 8m 42s (- 0h 6m 27s)\n",
            "epoch: 5, iter: 250000/417930 (59.8186%), loss: 13.42260, 0h 9m 4s (- 0h 6m 5s)\n",
            "epoch: 6, iter: 260000/417930 (62.2114%), loss: 11.01535, 0h 9m 26s (- 0h 5m 44s)\n",
            "epoch: 6, iter: 270000/417930 (64.6041%), loss: 12.30523, 0h 9m 48s (- 0h 5m 22s)\n",
            "epoch: 6, iter: 280000/417930 (66.9969%), loss: 12.12722, 0h 10m 10s (- 0h 5m 0s)\n",
            "epoch: 6, iter: 290000/417930 (69.3896%), loss: 11.63965, 0h 10m 31s (- 0h 4m 38s)\n",
            "epoch: 7, iter: 300000/417930 (71.7824%), loss: 7.85610, 0h 10m 54s (- 0h 4m 17s)\n",
            "epoch: 7, iter: 310000/417930 (74.1751%), loss: 10.81798, 0h 11m 15s (- 0h 3m 55s)\n",
            "epoch: 7, iter: 320000/417930 (76.5678%), loss: 10.85288, 0h 11m 37s (- 0h 3m 33s)\n",
            "epoch: 7, iter: 330000/417930 (78.9606%), loss: 10.79408, 0h 11m 58s (- 0h 3m 11s)\n",
            "epoch: 8, iter: 340000/417930 (81.3533%), loss: 5.44873, 0h 12m 20s (- 0h 2m 49s)\n",
            "epoch: 8, iter: 350000/417930 (83.7461%), loss: 9.91425, 0h 12m 41s (- 0h 2m 27s)\n",
            "epoch: 8, iter: 360000/417930 (86.1388%), loss: 10.02320, 0h 13m 3s (- 0h 2m 6s)\n",
            "epoch: 8, iter: 370000/417930 (88.5316%), loss: 10.05373, 0h 13m 25s (- 0h 1m 44s)\n",
            "epoch: 9, iter: 380000/417930 (90.9243%), loss: 3.40734, 0h 13m 47s (- 0h 1m 22s)\n",
            "epoch: 9, iter: 390000/417930 (93.3171%), loss: 9.06001, 0h 14m 8s (- 0h 1m 0s)\n",
            "epoch: 9, iter: 400000/417930 (95.7098%), loss: 9.06052, 0h 14m 30s (- 0h 0m 39s)\n",
            "epoch: 9, iter: 410000/417930 (98.1026%), loss: 9.19199, 0h 14m 52s (- 0h 0m 17s)\n"
          ],
          "name": "stdout"
        }
      ]
    },
    {
      "cell_type": "code",
      "metadata": {
        "id": "h_w5jVy7lrQn"
      },
      "source": [
        ""
      ],
      "execution_count": null,
      "outputs": []
    },
    {
      "cell_type": "code",
      "metadata": {
        "id": "ZRrRt7fFlrTS"
      },
      "source": [
        ""
      ],
      "execution_count": null,
      "outputs": []
    },
    {
      "cell_type": "markdown",
      "metadata": {
        "id": "62LCr5-FlscU"
      },
      "source": [
        "# 实验结果\n",
        "## 利用余弦相似性衡量向量之间的相似性"
      ]
    },
    {
      "cell_type": "code",
      "metadata": {
        "id": "puOtYNoalrV_"
      },
      "source": [
        "def find_nearest(word, embedding_weights):\n",
        "    index = word_to_idx[word]\n",
        "    embedding = embedding_weights[index]\n",
        "    cos_dis = np.array([scipy.spatial.distance.cosine(e, embedding) for e in embedding_weights])\n",
        "    return [idx_to_word[i] for i in cos_dis.argsort()[:10]]\n"
      ],
      "execution_count": 28,
      "outputs": []
    },
    {
      "cell_type": "code",
      "metadata": {
        "colab": {
          "base_uri": "https://localhost:8080/"
        },
        "id": "UiR5DNKKl64J",
        "outputId": "00dac808-099e-4d98-e126-f6a1904c52ea"
      },
      "source": [
        "glove_matrix = model.gloveMatrix()\n",
        "for word in [\"good\", \"one\", \"green\", \"like\", \"america\", \"queen\", \"better\", \"paris\", \"work\", \"computer\", \"language\"]:\n",
        "    print(word, find_nearest(word, glove_matrix))"
      ],
      "execution_count": 29,
      "outputs": [
        {
          "output_type": "stream",
          "text": [
            "good ['good', 'evil', 'bad', 'question', 'hard', 'sign', 'normal', 'better', 'word', 'real']\n",
            "one ['one', 'nine', 'zero', 'two', 'three', 'eight', 'six', 'seven', 'four', 'five']\n",
            "green ['green', 'blue', 'organization', 'domain', 'generation', 'celtic', 'airport', 'industrial', 'largest', 'station']\n",
            "like ['like', 'particular', 'something', 'having', 'just', 'them', 'any', 'believe', 'same', 'called']\n",
            "america ['america', 'north', 'africa', 'europe', 'asia', 'central', 'parliament', 'east', 'throughout', 'south']\n",
            "queen ['queen', 'department', 'israeli', 'captain', 'congress', 'domestic', 'celtic', 'violence', 'arab', 'golden']\n",
            "better ['better', 'hard', 'greater', 'makes', 'rather', 'normal', 'significant', 'call', 'without', 'special']\n",
            "paris ['paris', 'asian', 'boston', 'won', 'controversy', 'spain', 'speaking', 'philosopher', 'twenty', 'captain']\n",
            "work ['work', 'the', 'where', '<unk>', 'position', 'him', 'himself', 'and', 'democracy', 'both']\n",
            "computer ['computer', 'software', 'hardware', 'anti', 'blood', 'off', 'personal', 'films', 'playing', 'european']\n",
            "language ['language', 'spoken', 'human', 'resources', 'sign', 'body', 'law', 'free', 'popular', 'related']\n"
          ],
          "name": "stdout"
        }
      ]
    },
    {
      "cell_type": "markdown",
      "metadata": {
        "id": "ewl9iDkZmFhA"
      },
      "source": [
        "## 利用向量之间的运算考察词向量的关联性"
      ]
    },
    {
      "cell_type": "code",
      "metadata": {
        "id": "uHhdzpkymNgi"
      },
      "source": [
        "def findRelationshipVector(word1, word2, word3):\n",
        "    word1_idx = word_to_idx[word1]\n",
        "    word2_idx = word_to_idx[word2]\n",
        "    word3_idx = word_to_idx[word3]\n",
        "    embedding = glove_matrix[word2_idx] - glove_matrix[word1_idx] + glove_matrix[word3_idx]\n",
        "    cos_dis = np.array([scipy.spatial.distance.cosine(e, embedding) for e in glove_matrix])\n",
        "    for i in cos_dis.argsort()[:5]:\n",
        "        print(\"{} to {} as {} to {}\".format(word1, word2, word3, idx_to_word[i]))"
      ],
      "execution_count": 30,
      "outputs": []
    },
    {
      "cell_type": "code",
      "metadata": {
        "colab": {
          "base_uri": "https://localhost:8080/"
        },
        "id": "Qhwkxf3nmPv5",
        "outputId": "4560bd64-4aa4-49d2-e52f-1a241cfe893c"
      },
      "source": [
        "findRelationshipVector('man', 'king', 'woman')\n",
        "findRelationshipVector('america', 'washington', 'france')\n",
        "findRelationshipVector('good', 'better', 'little')"
      ],
      "execution_count": 31,
      "outputs": [
        {
          "output_type": "stream",
          "text": [
            "man to king as woman to king\n",
            "man to king as woman to rd\n",
            "man to king as woman to last\n",
            "man to king as woman to iv\n",
            "man to king as woman to summer\n",
            "america to washington as france to j\n",
            "america to washington as france to swedish\n",
            "america to washington as france to iv\n",
            "america to washington as france to composer\n",
            "america to washington as france to philosopher\n",
            "good to better as little to little\n",
            "good to better as little to uses\n",
            "good to better as little to exists\n",
            "good to better as little to longer\n",
            "good to better as little to just\n"
          ],
          "name": "stdout"
        }
      ]
    },
    {
      "cell_type": "markdown",
      "metadata": {
        "id": "ai6NV03ImRlV"
      },
      "source": [
        "## 利用SVD进行词向量的降维并可视化显示\n",
        "可能是没有训练好，修改了batch_size的大小"
      ]
    },
    {
      "cell_type": "code",
      "metadata": {
        "colab": {
          "base_uri": "https://localhost:8080/",
          "height": 265
        },
        "id": "O2lnTzNPg5bv",
        "outputId": "8b355ce2-533e-4ff4-d77c-cb37fbda2c7d"
      },
      "source": [
        "#数据降维以及可视化\n",
        "candidate_words = ['one','two','three','four','five','six','seven','eight','night','ten','color','green','blue','red','black',\n",
        "                    'man','woman','king','queen','wife','son','daughter','brown','zero','computer','hardware','software','system','program',\n",
        "                    'america','china','france','washington','good','better','bad']\n",
        "candidate_indexes = [word_to_idx[word] for word in candidate_words]\n",
        "choosen_indexes = candidate_indexes\n",
        "choosen_vectors = [glove_matrix[index] for index in choosen_indexes]\n",
        "\n",
        "U, S, VH = np.linalg.svd(choosen_vectors, full_matrices=False)\n",
        "for i in range(len(choosen_indexes)):\n",
        "    plt.text(U[i, 0], U[i, 1], idx_to_word[choosen_indexes[i]])\n",
        "\n",
        "coordinate = U[:, 0:2]\n",
        "plt.xlim((np.min(coordinate[:, 0]) - 0.1, np.max(coordinate[:, 0]) + 0.1))\n",
        "plt.ylim((np.min(coordinate[:, 1]) - 0.1, np.max(coordinate[:, 1]) + 0.1))\n",
        "plt.show()"
      ],
      "execution_count": 32,
      "outputs": [
        {
          "output_type": "display_data",
          "data": {
            "image/png": "[encoded data removed]",
            "text/plain": [
              "<Figure size 432x288 with 1 Axes>"
            ]
          },
          "metadata": {
            "tags": [],
            "needs_background": "light"
          }
        }
      ]
    },
    {
      "cell_type": "markdown",
      "metadata": {
        "id": "y5LfAywN5Amn"
      },
      "source": [
        "![image.png](data:image/png;base64,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)"
      ]
    },
    {
      "cell_type": "code",
      "metadata": {
        "id": "SDG4yoIx5BT8"
      },
      "source": [
        ""
      ],
      "execution_count": null,
      "outputs": []
    }
  ]
}